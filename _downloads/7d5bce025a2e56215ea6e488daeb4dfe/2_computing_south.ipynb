{
  "cells": [
    {
      "cell_type": "code",
      "execution_count": null,
      "metadata": {
        "collapsed": false
      },
      "outputs": [],
      "source": [
        "%matplotlib inline\nfrom pyvista import set_plot_theme\nset_plot_theme('document')"
      ]
    },
    {
      "cell_type": "markdown",
      "metadata": {},
      "source": [
        "\n# Model 2 - Computing Model\n\nThis tutorial covers the steps required to compute a geological model using GemPy, including setup, computation, and visualization.\n"
      ]
    },
    {
      "cell_type": "markdown",
      "metadata": {},
      "source": [
        "**Step 1: Import Necessary Libraries**\n\nImporting the required libraries for environmental variable management, model generation, and visualization.\n\n"
      ]
    },
    {
      "cell_type": "code",
      "execution_count": null,
      "metadata": {
        "collapsed": false
      },
      "outputs": [],
      "source": [
        "import dotenv\nfrom gempy_geotop.example_models import generate_south_model_base\nimport gempy as gp\nimport gempy_viewer as gpv"
      ]
    },
    {
      "cell_type": "markdown",
      "metadata": {},
      "source": [
        "**Step 2: Load Environment Variables**\n\nLoading environment variables which may include paths or configurations necessary for the model generation.\n\n"
      ]
    },
    {
      "cell_type": "code",
      "execution_count": null,
      "metadata": {
        "collapsed": false
      },
      "outputs": [],
      "source": [
        "dotenv.load_dotenv()"
      ]
    },
    {
      "cell_type": "markdown",
      "metadata": {},
      "source": [
        "**Step 3: Generate Base Geological Model**\n\nWe start by generating a base geological model using predefined settings. This function might configure\nbasic layers, fault systems, and other geological parameters based on the southern region model.\n\n"
      ]
    },
    {
      "cell_type": "code",
      "execution_count": null,
      "metadata": {
        "collapsed": false
      },
      "outputs": [],
      "source": [
        "geo_model = generate_south_model_base(group_slicer=slice(0, 10))"
      ]
    },
    {
      "cell_type": "markdown",
      "metadata": {},
      "source": [
        "**Step 4: Configure Interpolation Options**\n\nSetting the cache mode to `CACHE` to optimize interpolation calculations during model computation.\nThis improves performance especially for complex models.\n\n"
      ]
    },
    {
      "cell_type": "code",
      "execution_count": null,
      "metadata": {
        "collapsed": false
      },
      "outputs": [],
      "source": [
        "geo_model.interpolation_options.cache_mode = gp.data.InterpolationOptions.CacheMode.CACHE"
      ]
    },
    {
      "cell_type": "markdown",
      "metadata": {},
      "source": [
        "**Step 5: Compute the Geological Model**\n\nComputing the geological model using NumPy backend. We also enable GPU acceleration to further\nenhance the computation speed. The data type used is `float64` for high precision.\n\n"
      ]
    },
    {
      "cell_type": "code",
      "execution_count": null,
      "metadata": {
        "collapsed": false
      },
      "outputs": [],
      "source": [
        "gp.compute_model(\n    gempy_model=geo_model,\n    engine_config=gp.data.GemPyEngineConfig(\n        backend=gp.data.AvailableBackends.numpy,\n        use_gpu=True,\n        dtype='float64'\n    )\n)"
      ]
    },
    {
      "cell_type": "markdown",
      "metadata": {},
      "source": [
        "**Step 6: Visualize the Model in 3D**\n\nCreating a 3D visualization of the geological model using GemPy Viewer. We customize the view to show\ncertain data elements and adjust aesthetics like opacity and labels visibility.\n\n"
      ]
    },
    {
      "cell_type": "code",
      "execution_count": null,
      "metadata": {
        "collapsed": false
      },
      "outputs": [],
      "source": [
        "ve = 100  # Vertical exaggeration for better depth perception\ngempy_plot3d = gpv.plot_3d(\n    model=geo_model,\n    show_data=True,\n    show_lith=False,\n    ve=ve,\n    image=False,\n    kwargs_pyvista_bounds={\n            'show_xlabels': False,\n            'show_ylabels': False,\n            'show_zlabels': False,\n    },\n    kwargs_plot_data={'arrow_size': 100},\n    kwargs_plot_structured_grid={'opacity': .8}\n)"
      ]
    },
    {
      "cell_type": "markdown",
      "metadata": {},
      "source": [
        "**Step 7: Create 2D Cross-Sections**\n\nIn addition to 3D visualization, we generate 2D cross-sections of the model. This includes multiple sections\nto provide detailed views at different angles. Vertical exaggeration and projection distances are configured\nto enhance the visual output.\n\n"
      ]
    },
    {
      "cell_type": "code",
      "execution_count": null,
      "metadata": {
        "collapsed": false
      },
      "outputs": [],
      "source": [
        "# sphinx_gallery_thumbnail_number = 2\ngpv.plot_2d(\n    model=geo_model,\n    section_names=['section1', 'section2', 'section3'],\n    show_data=True,\n    show_boundaries=False,\n    ve=ve,\n    projection_distance=100\n)"
      ]
    }
  ],
  "metadata": {
    "kernelspec": {
      "display_name": "Python 3",
      "language": "python",
      "name": "python3"
    },
    "language_info": {
      "codemirror_mode": {
        "name": "ipython",
        "version": 3
      },
      "file_extension": ".py",
      "mimetype": "text/x-python",
      "name": "python",
      "nbconvert_exporter": "python",
      "pygments_lexer": "ipython3",
      "version": "3.10.12"
    }
  },
  "nbformat": 4,
  "nbformat_minor": 0
}