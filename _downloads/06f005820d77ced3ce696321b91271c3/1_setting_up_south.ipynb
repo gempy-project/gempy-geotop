{
  "cells": [
    {
      "cell_type": "code",
      "execution_count": null,
      "metadata": {
        "collapsed": false
      },
      "outputs": [],
      "source": [
        "%matplotlib inline\nfrom pyvista import set_plot_theme\nset_plot_theme('document')"
      ]
    },
    {
      "cell_type": "markdown",
      "metadata": {},
      "source": [
        "\n# Model 1 - Reading GeoTop Data\n\nThis tutorial demonstrates how to read borehole data using GeoTop and set up the stratigraphic pile using GemPy.\n"
      ]
    },
    {
      "cell_type": "markdown",
      "metadata": {},
      "source": [
        "**Step 1: Import Necessary Libraries**\n\nHere we import the libraries necessary for handling the environment variables, numerical operations,\ndata handling with pandas, and the specific functions from `subsurface` and `gempy` packages.\n\n"
      ]
    },
    {
      "cell_type": "code",
      "execution_count": null,
      "metadata": {
        "collapsed": false
      },
      "outputs": [],
      "source": [
        "import dotenv\nimport os\nimport numpy as np\nimport pandas as pd\nimport subsurface\nimport gempy as gp\nfrom gempy_geotop.model_constructor import initialize_geomodel, add_fault_from_unstructured_data\nfrom gempy_geotop.geotop_stratigraphy import stratigraphy_pile, color_elements\nfrom gempy_geotop.reader import read_all_boreholes_data_to_df, read_all_fault_data_to_mesh, add_raw_faults_to_mesh\nfrom gempy_geotop.utils import plot_geotop"
      ]
    },
    {
      "cell_type": "markdown",
      "metadata": {},
      "source": [
        "**Step 2: Load Environment Variables**\n\nEnvironment variables are a secure way to manage configurations and sensitive data.\nHere we load the environment variables that specify the path to the borehole data.\n\n"
      ]
    },
    {
      "cell_type": "code",
      "execution_count": null,
      "metadata": {
        "collapsed": false
      },
      "outputs": [],
      "source": [
        "dotenv.load_dotenv()"
      ]
    },
    {
      "cell_type": "markdown",
      "metadata": {},
      "source": [
        "**Step 3: Read Borehole Data**\n\nWe read the borehole data from the specified directory. This data will be used to initialize and\nconfigure the geological model in GemPy.\n\n"
      ]
    },
    {
      "cell_type": "code",
      "execution_count": null,
      "metadata": {
        "collapsed": false
      },
      "outputs": [],
      "source": [
        "data_south: pd.DataFrame = read_all_boreholes_data_to_df(\n    path=os.getenv('BOREHOLES_SOUTH_FOLDER')\n)"
      ]
    },
    {
      "cell_type": "markdown",
      "metadata": {},
      "source": [
        "**Step 4: Initialize GemPy Model**\n\nUsing the borehole data, we initialize the GemPy model. We also slice the formations\nto consider only the first 10, adjusting the model's complexity and processing time.\n\n"
      ]
    },
    {
      "cell_type": "code",
      "execution_count": null,
      "metadata": {
        "collapsed": false
      },
      "outputs": [],
      "source": [
        "geo_model = initialize_geomodel(data_south)\nslice_formations = slice(0, 10)  # Slice the formations to the first 10\ndepth = -500.0  # Define a fixed depth for the model's base"
      ]
    },
    {
      "cell_type": "markdown",
      "metadata": {},
      "source": [
        "**Step 5: Map Stratigraphy and Color Elements**\n\nHere we map the stratigraphy pile to the GemPy model and assign colors to different geological\nunits for better visualization.\n\n"
      ]
    },
    {
      "cell_type": "code",
      "execution_count": null,
      "metadata": {
        "collapsed": false
      },
      "outputs": [],
      "source": [
        "gp.map_stack_to_surfaces(\n    gempy_model=geo_model,\n    mapping_object=stratigraphy_pile\n)\ncolor_elements(geo_model.structural_frame.structural_elements)"
      ]
    },
    {
      "cell_type": "markdown",
      "metadata": {},
      "source": [
        "**Step 6: Configure and Set Grid**\n\nWe set up the grid for the model, defining its spatial extent and resolution based on the surface\npoints and a specified depth.\n\n"
      ]
    },
    {
      "cell_type": "code",
      "execution_count": null,
      "metadata": {
        "collapsed": false
      },
      "outputs": [],
      "source": [
        "geo_model.structural_frame.structural_groups = geo_model.structural_frame.structural_groups[slice_formations]\nxyz = geo_model.surface_points_copy.xyz\n\nextent = [\n        xyz[:, 0].min(), xyz[:, 0].max(),\n        xyz[:, 1].min(), xyz[:, 1].max(),\n        depth, xyz[:, 2].max()\n]\n\ngeo_model.grid.regular_grid.set_regular_grid(\n    extent=extent,\n    resolution=np.array([50, 50, 50])\n)"
      ]
    },
    {
      "cell_type": "markdown",
      "metadata": {},
      "source": [
        "**Step 7: Set Sections for Visualization**\n\nWe define specific sections of the model for detailed visualization. These sections help in analyzing\nthe model from different perspectives and depths.\n\n"
      ]
    },
    {
      "cell_type": "code",
      "execution_count": null,
      "metadata": {
        "collapsed": false
      },
      "outputs": [],
      "source": [
        "gp.set_section_grid(\n    grid=geo_model.grid,\n    section_dict={\n            'section1': ([112873, 390934], [212359, 390346], [100, 100]),\n            'section2': ([121660, 416391], [196740, 416618], [100, 100]),\n            'section3': ([160560, 414164], [159917, 370427], [100, 100])\n    }\n)"
      ]
    },
    {
      "cell_type": "markdown",
      "metadata": {},
      "source": [
        "**Step 8: Read and Process Fault Data**\n\nWe read fault data, slice it for processing the first few entries, and integrate these faults\ninto the geological model.\n\n"
      ]
    },
    {
      "cell_type": "code",
      "execution_count": null,
      "metadata": {
        "collapsed": false
      },
      "outputs": [],
      "source": [
        "all_unstruct: list[subsurface.UnstructuredData] = read_all_fault_data_to_mesh(\n    path=os.getenv('FAULTS_SOUTH_FOLDER')\n)\n\nslice_faults = slice(0, 3)  # Slice the faults to the first 3 for simplicity\nsubset = all_unstruct[slice_faults]  # Take the first 3 faults\n\nfor e, struct in enumerate(subset):\n    add_fault_from_unstructured_data(\n        unstruct=struct,\n        geo_model=geo_model,\n        name=f\"fault{e}\"\n    )"
      ]
    },
    {
      "cell_type": "markdown",
      "metadata": {},
      "source": [
        "**Step 9: Visualize the Model**\n\nFinally, we plot the 3D visualization of the geological model, showing both the stratigraphy\nand the faults. Adjust the vertical exaggeration for better depth perception.\n\n"
      ]
    },
    {
      "cell_type": "code",
      "execution_count": null,
      "metadata": {
        "collapsed": false
      },
      "outputs": [],
      "source": [
        "plot_3d = plot_geotop(geo_model, ve=100, image_3d=False, show=False)\nadd_raw_faults_to_mesh(subset, plot_3d)\nplot_3d.p.show()"
      ]
    }
  ],
  "metadata": {
    "kernelspec": {
      "display_name": "Python 3",
      "language": "python",
      "name": "python3"
    },
    "language_info": {
      "codemirror_mode": {
        "name": "ipython",
        "version": 3
      },
      "file_extension": ".py",
      "mimetype": "text/x-python",
      "name": "python",
      "nbconvert_exporter": "python",
      "pygments_lexer": "ipython3",
      "version": "3.10.12"
    }
  },
  "nbformat": 4,
  "nbformat_minor": 0
}